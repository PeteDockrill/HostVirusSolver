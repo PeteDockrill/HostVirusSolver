{
 "cells": [
  {
   "cell_type": "markdown",
   "metadata": {},
   "source": [
    "# Modelling viral and immune dynamics "
   ]
  },
  {
   "cell_type": "markdown",
   "metadata": {},
   "source": [
    "#### A model of viral strain competition from \"Host–virus evolutionary dynamics with specialist and generalist infection strategies: Bifurcations, bistability, and chaos\" - AIP Chaos (2020)"
   ]
  },
  {
   "cell_type": "markdown",
   "metadata": {},
   "source": [
    "## The model"
   ]
  },
  {
   "cell_type": "markdown",
   "metadata": {},
   "source": [
    "The model is a set of Ordinary Differential Equations with seven compartments:\n",
    "\n",
    "* $z$, the general strain of a virus \n",
    "\n",
    "* $z^s$, the specialist strain of a virus \n",
    "\n",
    "* $x_1$, susceptible target cells that can be infected by specialist and general strains of a virus \n",
    "\n",
    "* $x_2$, susceptible target cells that can only be infected by a general strain of a virus \n",
    "\n",
    "* $y_1$, infected $x_1$ cells that are infected by the general strain\n",
    "\n",
    "* $y_1^s$, infected $x_1$ cells that are infected by the specialist strain\n",
    "\n",
    "* $y_2$, infected $x_2$ cells\n"
   ]
  },
  {
   "cell_type": "markdown",
   "metadata": {},
   "source": [
    "It is assumed that the uninfected cells have growth rates $\\beta_i$ and $\\delta_i$, where $\\beta_i>\\delta_i$,$\\beta_1\\neq\\beta_2$ and $\\delta_1\\neq\\delta_2$ to ensure the cell populations don't completely die out and to establish two different cell populations. The cell populations also undergo logistic growth, leading to:\n",
    "$$\\dot{x}_1=\\beta_1x_1\\bigg(1-\\frac{x_1+x_2}{K}\\bigg)-\\delta_1x_1$$\n",
    "\n",
    "$$\\dot{x}_2=\\beta_2x_2\\bigg(1-\\frac{x_1+x_2}{K}\\bigg)-\\delta_2x_2$$"
   ]
  },
  {
   "cell_type": "markdown",
   "metadata": {},
   "source": [
    "Infection by the generalist and specialist viral strains occur at rates $\\alpha$ and $\\alpha^s$, leading to two additional terms in the evolution equation of $x_1$ and a single term in the evolution equation of $x_2$:\n",
    "$$\\dot{x}_1=\\beta_1x_1\\bigg(1-\\frac{x_1+x_2}{K}\\bigg)-x_1\\alpha z-x_1\\alpha^sz^s-\\delta_1x_1$$\n",
    "\n",
    "$$\\dot{x}_2=\\beta_2x_2\\bigg(1-\\frac{x_1+x_2}{K}\\bigg)-x_2\\alpha z - \\delta_2 x_2$$"
   ]
  },
  {
   "cell_type": "markdown",
   "metadata": {},
   "source": [
    "These infections are reflected in the infected cell evolution equations by including identical terms:\n",
    "$$\\dot{y}_1 = x_1\\alpha z$$\n",
    "\n",
    "$$\\dot{y}_1^s = x_1\\alpha^s z^s$$\n",
    "\n",
    "$$\\dot{y}_2 = x_2\\alpha z$$"
   ]
  },
  {
   "cell_type": "markdown",
   "metadata": {},
   "source": [
    "However it is also assumed that these cells die at different rates $\\gamma_1$, $\\gamma_1^s$ and $\\gamma_2$ as a result of being infected: \n",
    "$$\\dot{y}_1 = x_1\\alpha z - \\gamma_1y_1$$\n",
    "\n",
    "$$\\dot{y}_1^s = x_1\\alpha^s z^s-\\gamma_1^sy^s_1$$\n",
    "\n",
    "$$\\dot{y}_2 = x_2\\alpha z- \\gamma_2y_2$$"
   ]
  },
  {
   "cell_type": "markdown",
   "metadata": {},
   "source": [
    "Mutation from $z_1$ to $z_1^s$ is modelled by including a cross term $\\mu y_1$ that links the comparments $y_1$ and $y_1^s$:\n",
    "$$\\dot{y}_1 = x_1\\alpha z - \\gamma_1y_1 - \\mu y_1$$\n",
    "\n",
    "$$\\dot{y}_1^s = x_1\\alpha^s z^s-\\gamma_1^sy^s_1 +\\mu y_1$$"
   ]
  },
  {
   "cell_type": "markdown",
   "metadata": {},
   "source": [
    "The by accounting through the effects of cell lysis through factors $\\kappa^s$, $\\kappa_1$ and $\\kappa_2$, viral population growth and decay is described by the respective terms in each evolution equation:\n",
    "\n",
    "$$\\dot{z}^s=\\kappa^s\\gamma^s_1y^s_1-\\zeta^sz^s$$\n",
    "\n",
    "$$\\dot{z}=\\kappa_1\\gamma_1y_1+\\kappa_2\\gamma_2y_2-\\zeta_z$$"
   ]
  },
  {
   "cell_type": "markdown",
   "metadata": {},
   "source": [
    "However the multiplicity of infection is accounted for by factors $\\nu^s$ and $\\nu$, leading to:\n",
    "\n",
    "$$\\dot{z}^s=\\kappa^s\\gamma^s_1y^s_1-\\nu^s\\alpha^sz^sx_1-\\zeta^sz^s$$\n",
    "\n",
    "$$\\dot{z}=\\kappa_1\\gamma_1y_1+\\kappa_2\\gamma_2y_2-\\nu\\alpha z(x_1+x_2)-\\zeta z$$"
   ]
  },
  {
   "cell_type": "markdown",
   "metadata": {},
   "source": [
    "## Initial simulations"
   ]
  },
  {
   "cell_type": "code",
   "execution_count": 3,
   "metadata": {},
   "outputs": [
    {
     "ename": "ModuleNotFoundError",
     "evalue": "No module named 'Model'",
     "output_type": "error",
     "traceback": [
      "\u001b[0;31m---------------------------------------------------------------------------\u001b[0m",
      "\u001b[0;31mModuleNotFoundError\u001b[0m                       Traceback (most recent call last)",
      "\u001b[0;32m<ipython-input-3-1701278654e2>\u001b[0m in \u001b[0;36m<module>\u001b[0;34m\u001b[0m\n\u001b[0;32m----> 1\u001b[0;31m \u001b[0;32mfrom\u001b[0m \u001b[0mModel\u001b[0m \u001b[0;32mimport\u001b[0m \u001b[0mModel\u001b[0m\u001b[0;34m\u001b[0m\u001b[0;34m\u001b[0m\u001b[0m\n\u001b[0m\u001b[1;32m      2\u001b[0m \u001b[0;34m\u001b[0m\u001b[0m\n\u001b[1;32m      3\u001b[0m \u001b[0mmodel\u001b[0m \u001b[0;34m=\u001b[0m \u001b[0mModel\u001b[0m\u001b[0;34m(\u001b[0m\u001b[0;34m)\u001b[0m\u001b[0;34m\u001b[0m\u001b[0;34m\u001b[0m\u001b[0m\n",
      "\u001b[0;31mModuleNotFoundError\u001b[0m: No module named 'Model'"
     ]
    }
   ],
   "source": [
    "from Model import Model\n",
    "\n",
    "model = Model()"
   ]
  },
  {
   "cell_type": "code",
   "execution_count": null,
   "metadata": {},
   "outputs": [],
   "source": []
  }
 ],
 "metadata": {
  "kernelspec": {
   "display_name": "Python 3",
   "language": "python",
   "name": "python3"
  },
  "language_info": {
   "codemirror_mode": {
    "name": "ipython",
    "version": 3
   },
   "file_extension": ".py",
   "mimetype": "text/x-python",
   "name": "python",
   "nbconvert_exporter": "python",
   "pygments_lexer": "ipython3",
   "version": "3.8.3"
  }
 },
 "nbformat": 4,
 "nbformat_minor": 4
}
